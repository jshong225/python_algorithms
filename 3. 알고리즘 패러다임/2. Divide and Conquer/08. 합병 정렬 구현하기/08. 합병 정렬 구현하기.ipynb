{
 "cells": [
  {
   "cell_type": "code",
   "execution_count": null,
   "metadata": {},
   "outputs": [],
   "source": [
    "def merge(list1, list2):\n",
    "    i = 0\n",
    "    j = 0\n",
    "\n",
    "    # 정렬된 항목들을 담을 리스트\n",
    "    merged_list = []\n",
    "\n",
    "    # list1과 list2를 돌면서 merged_list에 항목 정렬\n",
    "    while i < len(list1) and j < len(list2):\n",
    "        if list1[i] > list2[j]:\n",
    "            merged_list.append(list2[j])\n",
    "            j += 1\n",
    "        else:\n",
    "            merged_list.append(list1[i])\n",
    "            i += 1\n",
    "\n",
    "    # list2에 남은 항목이 있으면 정렬 리스트에 추가\n",
    "    if i == len(list1):\n",
    "        merged_list += list2[j:]\n",
    "\n",
    "    # list1에 남은 항목이 있으면 정렬 리스트에 추가\n",
    "    elif j == len(list2):\n",
    "        merged_list += list1[i:]\n",
    "\n",
    "    return merged_list\n",
    "\n",
    "\n",
    "def merge_sort(my_list):\n",
    "    # base case\n",
    "    if len(my_list) < 2:\n",
    "        return my_list\n",
    "\n",
    "    # my_list를 반씩 나눈다(divide)\n",
    "    left_half = my_list[:len(my_list)//2]    # 왼쪽 반\n",
    "    right_half = my_list[len(my_list)//2:]   # 오른쪽 반\n",
    "\n",
    "    # merge_sort 함수를 재귀적으로 호출하여 부분 문제 해결(conquer)하고,\n",
    "    # merge 함수로 정렬된 두 리스트를 합쳐(combine)준다\n",
    "    return merge(merge_sort(left_half), merge_sort(right_half))\n",
    "\n",
    "# 테스트\n",
    "print(merge_sort([1, 3, 5, 7, 9, 11, 13, 11]))\n",
    "print(merge_sort([28, 13, 9, 30, 1, 48, 5, 7, 15]))\n",
    "print(merge_sort([2, 5, 6, 7, 1, 2, 4, 7, 10, 11, 4, 15, 13, 1, 6, 4]))"
   ]
  }
 ],
 "metadata": {
  "kernelspec": {
   "display_name": "Python 3",
   "language": "python",
   "name": "python3"
  },
  "language_info": {
   "codemirror_mode": {
    "name": "ipython",
    "version": 3
   },
   "file_extension": ".py",
   "mimetype": "text/x-python",
   "name": "python",
   "nbconvert_exporter": "python",
   "pygments_lexer": "ipython3",
   "version": "3.7.3"
  }
 },
 "nbformat": 4,
 "nbformat_minor": 2
}
