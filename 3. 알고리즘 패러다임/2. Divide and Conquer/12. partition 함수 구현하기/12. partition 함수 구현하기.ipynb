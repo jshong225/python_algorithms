{
 "cells": [
  {
   "cell_type": "code",
   "execution_count": 1,
   "metadata": {},
   "outputs": [
    {
     "name": "stdout",
     "output_type": "stream",
     "text": [
      "[4, 3, 2, 1, 5, 6, 7]\n",
      "4\n",
      "[1, 2, 3, 4, 6, 5, 6]\n",
      "3\n"
     ]
    }
   ],
   "source": [
    "# 두 요소의 위치를 바꿔주는 helper function\n",
    "def swap_elements(my_list, index1, index2):\n",
    "    temp = my_list[index1]\n",
    "    my_list[index1] = my_list[index2]\n",
    "    my_list[index2] = temp\n",
    "\n",
    "\n",
    "# 퀵 정렬에서 사용되는 partition 함수\n",
    "def partition(my_list, start, end):\n",
    "    # 리스트 값 확인과 기준점 이하 값들의 위치 확인을 위한 변수 정의\n",
    "    i = start\n",
    "    b = start\n",
    "    p = end\n",
    "\n",
    "    # 범위안의 모든 값들을 볼 때까지 반복문을 돌린다\n",
    "    while i < p:\n",
    "        # i 인덱스의 값이 기준점보다 작으면 i와 b 인덱스에 있는 값들을 교환하고 b를 1 증가 시킨다\n",
    "        if my_list[i] <= my_list[p]:\n",
    "            swap_elements(my_list, i, b)\n",
    "            b += 1\n",
    "        i += 1\n",
    "\n",
    "    # b와 기준점인 p 인덱스에 있는 값들을 바꿔준다\n",
    "    swap_elements(my_list, b, p)\n",
    "    p = b\n",
    "\n",
    "    # pivot의 최종 인덱스를 리턴해 준다\n",
    "    return p\n",
    "\n",
    "\n",
    "# 테스트 1\n",
    "list1 = [4, 3, 6, 2, 7, 1, 5]\n",
    "pivot_index1 = partition(list1, 0, len(list1) - 1)\n",
    "print(list1)\n",
    "print(pivot_index1)\n",
    "\n",
    "# 테스트 2\n",
    "list2 = [6, 1, 2, 6, 3, 5, 4]\n",
    "pivot_index2 = partition(list2, 0, len(list2) - 1)\n",
    "print(list2)\n",
    "print(pivot_index2)"
   ]
  }
 ],
 "metadata": {
  "kernelspec": {
   "display_name": "Python 3",
   "language": "python",
   "name": "python3"
  },
  "language_info": {
   "codemirror_mode": {
    "name": "ipython",
    "version": 3
   },
   "file_extension": ".py",
   "mimetype": "text/x-python",
   "name": "python",
   "nbconvert_exporter": "python",
   "pygments_lexer": "ipython3",
   "version": "3.7.3"
  }
 },
 "nbformat": 4,
 "nbformat_minor": 2
}
