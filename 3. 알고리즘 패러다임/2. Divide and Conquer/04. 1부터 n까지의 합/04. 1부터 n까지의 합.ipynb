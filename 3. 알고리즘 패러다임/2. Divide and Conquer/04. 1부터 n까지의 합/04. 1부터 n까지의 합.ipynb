{
 "cells": [
  {
   "cell_type": "code",
   "execution_count": 6,
   "metadata": {},
   "outputs": [
    {
     "name": "stdout",
     "output_type": "stream",
     "text": [
      "55\n",
      "499500\n",
      "500500\n",
      "55\n",
      "5050\n",
      "32131\n",
      "75466\n"
     ]
    }
   ],
   "source": [
    "# 우리가 작성할 함수 consecutive_sum은 두 개의 정수 인풋 start와 end를 받고, start부터 end까지의 합을 리턴합니다. end는 start보다 크다고 가정합니다.\n",
    "\n",
    "def consecutive_sum(start, end):\n",
    "    if (start>end):\n",
    "        return 0\n",
    "    else :\n",
    "        return start+consecutive_sum(start+1,end)\n",
    "    \n",
    "print(consecutive_sum(1,10))\n",
    "print(consecutive_sum(1,999))\n",
    "print(consecutive_sum(1,1000))\n",
    "\n",
    "def consecutive_sum2(start, end):\n",
    "    # base case        \n",
    "    if end == start:\n",
    "        return start\n",
    "\n",
    "    # 부분 문제를 반으로 나눠주기 위해서 문제의 정중앙을 정의한다 (Divide)\n",
    "    mid = (start + end) // 2\n",
    "\n",
    "    # 각 부분 문제를 재귀적으로 풀고(Conquer), 부분 문제의 답을 서로 더한다(Combine).\n",
    "    return consecutive_sum2(start, mid) + consecutive_sum2(mid + 1, end)\n",
    "\n",
    "# 테스트\n",
    "print(consecutive_sum2(1, 10))\n",
    "print(consecutive_sum2(1, 100))\n",
    "print(consecutive_sum2(1, 253))\n",
    "print(consecutive_sum2(1, 388))"
   ]
  }
 ],
 "metadata": {
  "kernelspec": {
   "display_name": "Python 3",
   "language": "python",
   "name": "python3"
  },
  "language_info": {
   "codemirror_mode": {
    "name": "ipython",
    "version": 3
   },
   "file_extension": ".py",
   "mimetype": "text/x-python",
   "name": "python",
   "nbconvert_exporter": "python",
   "pygments_lexer": "ipython3",
   "version": "3.7.3"
  }
 },
 "nbformat": 4,
 "nbformat_minor": 2
}
