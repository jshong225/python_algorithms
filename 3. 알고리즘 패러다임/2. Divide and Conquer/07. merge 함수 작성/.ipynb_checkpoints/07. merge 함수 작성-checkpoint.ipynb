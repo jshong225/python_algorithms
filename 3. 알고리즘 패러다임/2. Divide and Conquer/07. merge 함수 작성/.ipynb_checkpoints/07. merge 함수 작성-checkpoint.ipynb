{
 "cells": [
  {
   "cell_type": "code",
   "execution_count": 1,
   "metadata": {},
   "outputs": [
    {
     "name": "stdout",
     "output_type": "stream",
     "text": [
      "[1]\n",
      "[1]\n",
      "[1, 2]\n",
      "[1, 2, 3, 4, 5, 6, 7, 8]\n",
      "[1, 2, 3, 4, 5, 6, 7, 8]\n",
      "[1, 3, 4, 6, 7, 8, 9, 10]\n"
     ]
    }
   ],
   "source": [
    "# 합병 정렬 알고리즘 중 사용되는 merge 함수를 작성해 보세요.\n",
    "\n",
    "\n",
    "# merge 함수는 정렬된 두 리스트 list1과 list2를 받아서, 하나의 정렬된 리스트를 리턴합니다.\n",
    "\n",
    "def merge(list1, list2):\n",
    "    i = 0\n",
    "    j = 0\n",
    "\n",
    "    # 정렬된 항목들을 담을 리스트\n",
    "    merged_list = []\n",
    "\n",
    "    # list1과 list2를 돌면서 merged_list에 항목 정렬\n",
    "    while i < len(list1) and j < len(list2):\n",
    "        if list1[i] > list2[j]:\n",
    "            merged_list.append(list2[j])\n",
    "            j += 1\n",
    "        else:\n",
    "            merged_list.append(list1[i])\n",
    "            i += 1\n",
    "\n",
    "    # list2에 남은 항목이 있으면 정렬 리스트에 추가\n",
    "    if i == len(list1):\n",
    "        merged_list += list2[j:]\n",
    "\n",
    "    # list1에 남은 항목이 있으면 정렬 리스트에 추가\n",
    "    elif j == len(list2):\n",
    "        merged_list += list1[i:]\n",
    "\n",
    "    return merged_list\n",
    "\n",
    "# 테스트\n",
    "print(merge([1],[]))\n",
    "print(merge([],[1]))\n",
    "print(merge([2],[1]))\n",
    "print(merge([1, 2, 3, 4],[5, 6, 7, 8]))\n",
    "print(merge([5, 6, 7, 8],[1, 2, 3, 4]))\n",
    "print(merge([4, 7, 8, 9],[1, 3, 6, 10]))"
   ]
  }
 ],
 "metadata": {
  "kernelspec": {
   "display_name": "Python 3",
   "language": "python",
   "name": "python3"
  },
  "language_info": {
   "codemirror_mode": {
    "name": "ipython",
    "version": 3
   },
   "file_extension": ".py",
   "mimetype": "text/x-python",
   "name": "python",
   "nbconvert_exporter": "python",
   "pygments_lexer": "ipython3",
   "version": "3.7.3"
  }
 },
 "nbformat": 4,
 "nbformat_minor": 2
}
