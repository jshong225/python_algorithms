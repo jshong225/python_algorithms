{
 "cells": [
  {
   "cell_type": "code",
   "execution_count": 1,
   "metadata": {},
   "outputs": [
    {
     "name": "stdout",
     "output_type": "stream",
     "text": [
      "2000\n",
      "2400\n",
      "1800\n"
     ]
    }
   ],
   "source": [
    "def max_profit(price_list, count):\n",
    "    # 개수별로 가능한 최대 수익을 저장하는 리스트\n",
    "    # 새꼼달꼼 0개면 0원\n",
    "    profit_table = [0]\n",
    "\n",
    "    # 개수 1부터 count까지 계산하기 위해 반복문\n",
    "    for i in range(1, count + 1):\n",
    "        # 새꼼달꼼 i개에 대한 최대 수익을 담는 변수 profit\n",
    "        if i < len(price_list):\n",
    "            # i개에 대한 가격이 price_list에 있으면,\n",
    "            # profit에 price_list[i]값을 넣는다\n",
    "            profit = price_list[i]\n",
    "        else:\n",
    "            # i개에 대한 가격이 price_list에 없으면,\n",
    "            # profit에 0을 넣는다\n",
    "            profit = 0\n",
    "\n",
    "        # count개를 팔 수 있는 조합들을 비교해서, 가능한 최대 수익을 찾는다\n",
    "        for j in range(1, i // 2 + 1):\n",
    "            profit = max(profit, profit_table[j] + profit_table[i - j])\n",
    "\n",
    "        profit_table.append(profit)\n",
    "\n",
    "    return profit_table[count]\n",
    "\n",
    "# 테스트\n",
    "print(max_profit([0, 200, 600, 900, 1200, 2000], 5))\n",
    "print(max_profit([0, 300, 600, 700, 1100, 1400], 8))\n",
    "print(max_profit([0, 100, 200, 400, 600, 900, 1200, 1300, 1500, 1800], 9))"
   ]
  }
 ],
 "metadata": {
  "kernelspec": {
   "display_name": "Python 3",
   "language": "python",
   "name": "python3"
  },
  "language_info": {
   "codemirror_mode": {
    "name": "ipython",
    "version": 3
   },
   "file_extension": ".py",
   "mimetype": "text/x-python",
   "name": "python",
   "nbconvert_exporter": "python",
   "pygments_lexer": "ipython3",
   "version": "3.7.3"
  }
 },
 "nbformat": 4,
 "nbformat_minor": 2
}
