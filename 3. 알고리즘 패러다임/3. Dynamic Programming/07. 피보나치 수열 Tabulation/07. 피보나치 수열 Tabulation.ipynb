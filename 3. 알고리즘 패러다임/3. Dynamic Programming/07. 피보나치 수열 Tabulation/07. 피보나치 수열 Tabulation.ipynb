{
 "cells": [
  {
   "cell_type": "code",
   "execution_count": 4,
   "metadata": {},
   "outputs": [
    {
     "name": "stdout",
     "output_type": "stream",
     "text": [
      "55\n",
      "225851433717\n",
      "1725375039079340637797070384\n"
     ]
    }
   ],
   "source": [
    "## 07. 피보나치 수열 Tabulation\n",
    "## 중복된 계산이 없도록 하는 방식\n",
    "\n",
    "\n",
    "def fib_tab(n):\n",
    "    # 코드를 작성하세요.\n",
    "    # 각 index값이 n의 피보나치 수열값이라고 생각하면 된다.\n",
    "    fib_table = [0,1,1]\n",
    "    \n",
    "    #3부터 for 문으로 dynamic programming 하면 된다.\n",
    "    if n>3:\n",
    "        for i in range(3, n+1): #n까지의 리스트를 차례대로 만드는 방법으로 한다.\n",
    "                m=fib_table[i-2] + fib_table[i-1]\n",
    "                fib_table.append(m)\n",
    "                \n",
    "    return fib_table[n]\n",
    "\n",
    "# 테스트\n",
    "print(fib_tab(10))\n",
    "print(fib_tab(56))\n",
    "print(fib_tab(132))"
   ]
  }
 ],
 "metadata": {
  "kernelspec": {
   "display_name": "Python 3",
   "language": "python",
   "name": "python3"
  },
  "language_info": {
   "codemirror_mode": {
    "name": "ipython",
    "version": 3
   },
   "file_extension": ".py",
   "mimetype": "text/x-python",
   "name": "python",
   "nbconvert_exporter": "python",
   "pygments_lexer": "ipython3",
   "version": "3.7.3"
  }
 },
 "nbformat": 4,
 "nbformat_minor": 2
}
