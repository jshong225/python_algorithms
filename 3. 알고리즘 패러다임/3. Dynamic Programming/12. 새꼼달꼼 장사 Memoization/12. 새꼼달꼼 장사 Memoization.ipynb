{
 "cells": [
  {
   "cell_type": "code",
   "execution_count": 2,
   "metadata": {},
   "outputs": [
    {
     "name": "stdout",
     "output_type": "stream",
     "text": [
      "1200\n",
      "2500\n",
      "2400\n"
     ]
    }
   ],
   "source": [
    "## 12. 새꼼달꼼 장사 Memoization\n",
    "def max_profit_memo(price_list, count, cache):\n",
    "    # Base Case: 0개 혹은 1개면 부분 문제로 나눌 필요가 없기 때문에 가격을 바로 리턴한다\n",
    "    if count < 2:\n",
    "        cache[count] = price_list[count]\n",
    "        return price_list[count]\n",
    "\n",
    "    # 이미 계산한 값이면 cache에 저장된 값을 리턴한다\n",
    "    if count in cache:\n",
    "        return cache[count]\n",
    "\n",
    "    # profit은 count개를 팔아서 가능한 최대 수익을 저장하는 변수\n",
    "    # 팔려고 하는 총개수에 대한 가격이 price_list에 없으면 일단 0으로 설정\n",
    "    # 팔려고 하는 총개수에 대한 가격이 price_list에 있으면 일단 그 가격으로 설정\n",
    "    if count < len(price_list):\n",
    "        profit = price_list[count]\n",
    "    else:\n",
    "        profit = 0\n",
    "\n",
    "    # count개를 팔 수 있는 조합들을 비교해서, 가능한 최대 수익을 profit에 저장\n",
    "    for i in range(1, count // 2 + 1):\n",
    "        profit = max(profit, max_profit_memo(price_list, i, cache) \n",
    "                 + max_profit_memo(price_list, count - i, cache))\n",
    "\n",
    "    # 계산된 최대 수익을 cache에 저장\n",
    "    cache[count] = profit\n",
    "\n",
    "    return profit\n",
    "\n",
    "\n",
    "def max_profit(price_list, count):\n",
    "    max_profit_cache = {}\n",
    "\n",
    "    return max_profit_memo(price_list, count, max_profit_cache)\n",
    "\n",
    "\n",
    "# 테스트\n",
    "print(max_profit([0, 100, 400, 800, 900, 1000], 5))\n",
    "print(max_profit([0, 100, 400, 800, 900, 1000], 10))\n",
    "print(max_profit([0, 100, 400, 800, 900, 1000, 1400, 1600, 2100, 2200], 9))\n"
   ]
  }
 ],
 "metadata": {
  "kernelspec": {
   "display_name": "Python 3",
   "language": "python",
   "name": "python3"
  },
  "language_info": {
   "codemirror_mode": {
    "name": "ipython",
    "version": 3
   },
   "file_extension": ".py",
   "mimetype": "text/x-python",
   "name": "python",
   "nbconvert_exporter": "python",
   "pygments_lexer": "ipython3",
   "version": "3.7.3"
  }
 },
 "nbformat": 4,
 "nbformat_minor": 2
}
