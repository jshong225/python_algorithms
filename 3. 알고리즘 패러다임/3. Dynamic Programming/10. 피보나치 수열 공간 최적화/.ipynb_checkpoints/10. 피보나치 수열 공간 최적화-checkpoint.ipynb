{
 "cells": [
  {
   "cell_type": "code",
   "execution_count": 1,
   "metadata": {},
   "outputs": [
    {
     "name": "stdout",
     "output_type": "stream",
     "text": [
      "987\n",
      "53316291173\n",
      "146178119651438213260386312206974243796773058\n"
     ]
    }
   ],
   "source": [
    "## 10. 피보나치 수열 공간 최적화\n",
    "\n",
    "def fib_optimized(n):\n",
    "    # 코드를 작성하세요. \n",
    "\n",
    "    current = previous = 1\n",
    "    \n",
    "    for i in range(1, n-1) :\n",
    "        \n",
    "        current = previous + current\n",
    "        previous = current - previous\n",
    "\n",
    "    return current\n",
    "\n",
    "\n",
    "# 테스트\n",
    "print(fib_optimized(16))\n",
    "print(fib_optimized(53))\n",
    "print(fib_optimized(213))\n"
   ]
  }
 ],
 "metadata": {
  "kernelspec": {
   "display_name": "Python 3",
   "language": "python",
   "name": "python3"
  },
  "language_info": {
   "codemirror_mode": {
    "name": "ipython",
    "version": 3
   },
   "file_extension": ".py",
   "mimetype": "text/x-python",
   "name": "python",
   "nbconvert_exporter": "python",
   "pygments_lexer": "ipython3",
   "version": "3.7.3"
  }
 },
 "nbformat": 4,
 "nbformat_minor": 2
}
