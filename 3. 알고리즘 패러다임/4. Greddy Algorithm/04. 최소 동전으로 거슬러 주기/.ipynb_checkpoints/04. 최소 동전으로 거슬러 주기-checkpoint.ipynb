{
 "cells": [
  {
   "cell_type": "code",
   "execution_count": 1,
   "metadata": {},
   "outputs": [
    {
     "name": "stdout",
     "output_type": "stream",
     "text": [
      "10\n",
      "5\n",
      "49\n",
      "70\n"
     ]
    }
   ],
   "source": [
    "## 04. 최소 동전으로 거슬러 주기\n",
    "\n",
    "def min_coin_count(value, coin_list):\n",
    "    # 누적 동전 개수\n",
    "    count = 0\n",
    "\n",
    "    # coin_list의 값들을 큰 순서대로 본다\n",
    "    for coin in sorted(coin_list, reverse=True):\n",
    "        # 현재 동전으로 몇 개 거슬러 줄 수 있는지 확인한다\n",
    "        count += (value // coin)\n",
    "\n",
    "        # 잔액을 계산한다\n",
    "        value %= coin\n",
    "\n",
    "    return count\n",
    "\n",
    "# 테스트\n",
    "default_coin_list = [100, 500, 10, 50]\n",
    "print(min_coin_count(1440, default_coin_list))\n",
    "print(min_coin_count(1700, default_coin_list))\n",
    "print(min_coin_count(23520, default_coin_list))\n",
    "print(min_coin_count(32590, default_coin_list))"
   ]
  }
 ],
 "metadata": {
  "kernelspec": {
   "display_name": "Python 3",
   "language": "python",
   "name": "python3"
  },
  "language_info": {
   "codemirror_mode": {
    "name": "ipython",
    "version": 3
   },
   "file_extension": ".py",
   "mimetype": "text/x-python",
   "name": "python",
   "nbconvert_exporter": "python",
   "pygments_lexer": "ipython3",
   "version": "3.7.3"
  }
 },
 "nbformat": 4,
 "nbformat_minor": 2
}
