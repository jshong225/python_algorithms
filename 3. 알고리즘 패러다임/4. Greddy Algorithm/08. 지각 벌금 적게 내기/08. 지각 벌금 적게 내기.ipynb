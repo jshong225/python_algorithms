{
 "cells": [
  {
   "cell_type": "code",
   "execution_count": null,
   "metadata": {},
   "outputs": [],
   "source": [
    "## 08. 지각 벌금 적게 내기\n",
    "\"\"\"\n",
    "익중이네 밴드부는 매주 수요일 오후 6시에 합주를 하는데요. 멤버들이 너무 상습적으로 늦어서, 1분에 1달러씩 내야 하는 벌금 제도를 도입했습니다.\n",
    "\n",
    "\n",
    "그런데 마침 익중이와 친구 넷이 놀다가 또 지각할 위기입니다. 아직 악보도 출력해 놓지 않은 상황이죠.\n",
    "\n",
    "\n",
    "어차피 같이 놀다 늦은 것이니 벌금을 다섯 명이서 똑같이 나눠 내기로 하고, 벌금을 가능한 적게 내는 방법을 고민해 보기로 합니다.\n",
    "\n",
    "\n",
    "다섯 사람이 각각 출력해야 하는 페이지 수는 3장, 1장, 4장, 3장, 2장입니다. 프린터는 한 대밖에 없고, 1장을 출력하기 위해서는 1분이 걸립니다.\n",
    "\n",
    "\n",
    "현재 순서대로 출력한다면,\n",
    "\n",
    "\n",
    "첫 번째 사람: 33분 지각\n",
    "두 번째 사람: 3 + 13+1분 지각\n",
    "세 번째 사람: 3 + 1 + 43+1+4분 지각\n",
    "네 번째 사람: 3 + 1 + 4 + 33+1+4+3분 지각\n",
    "다섯 번째 사람: 3 + 1 + 4 + 3 + 23+1+4+3+2분 지각\n",
    "\n",
    "총 39달러의 벌금을 내야 합니다.\n",
    "\n",
    "흠… 더 적게 내는 방법이 있지 않을까요?\n",
    "\"\"\"\n",
    "\n",
    "def min_fee(pages_to_print):\n",
    "    # 인풋으로 받은 리스트를 정렬시켜 준다\n",
    "    sorted_list = sorted(pages_to_print)\n",
    "\n",
    "    # 총 벌금을 담을 변수\n",
    "    total_fee = 0\n",
    "\n",
    "    # 정렬된 리스트에서 총 벌금 계산\n",
    "    for i in range(len(sorted_list)):\n",
    "        total_fee += sorted_list[i] * (len(sorted_list) - i)\n",
    "\n",
    "    return total_fee\n",
    "\n",
    "\n",
    "# 테스트\n",
    "print(min_fee([6, 11, 4, 1]))\n",
    "print(min_fee([3, 2, 1]))\n",
    "print(min_fee([3, 1, 4, 3, 2]))\n",
    "print(min_fee([8, 4, 2, 3, 9, 23, 6, 8]))"
   ]
  }
 ],
 "metadata": {
  "kernelspec": {
   "display_name": "Python 3",
   "language": "python",
   "name": "python3"
  },
  "language_info": {
   "codemirror_mode": {
    "name": "ipython",
    "version": 3
   },
   "file_extension": ".py",
   "mimetype": "text/x-python",
   "name": "python",
   "nbconvert_exporter": "python",
   "pygments_lexer": "ipython3",
   "version": "3.7.3"
  }
 },
 "nbformat": 4,
 "nbformat_minor": 2
}
