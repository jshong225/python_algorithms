{
 "cells": [
  {
   "cell_type": "code",
   "execution_count": 1,
   "metadata": {},
   "outputs": [
    {
     "name": "stdout",
     "output_type": "stream",
     "text": [
      "24\n",
      "244944\n",
      "10800\n",
      "12600\n"
     ]
    }
   ],
   "source": [
    "## 06. 최대 곱 구하기\n",
    "\n",
    "def max_product(card_lists):\n",
    "    # 누적된 곱을 저장하는 변수\n",
    "    product = 1\n",
    "\n",
    "    # 반복문을 돌면서 카드 뭉치를 하나씩 본다\n",
    "    for card_list in card_lists:\n",
    "        # product에 각 뭉치의 최댓값을 곱해 준다\n",
    "        product *= max(card_list)\n",
    "\n",
    "    return product\n",
    "\n",
    "\n",
    "# 테스트\n",
    "test_cards1 = [[1, 6, 5], [4, 2, 3]]\n",
    "print(max_product(test_cards1))\n",
    "\n",
    "test_cards2 = [[9, 7, 8], [9, 2, 3], [9, 8, 1], [2, 8, 3], [1, 3, 6], [7, 7, 4]]\n",
    "print(max_product(test_cards2))\n",
    "\n",
    "test_cards3 = [[1, 2, 3], [4, 6, 1], [8, 2, 4], [3, 2, 5], [5, 2, 3], [3, 2, 1]]\n",
    "print(max_product(test_cards3))\n",
    "\n",
    "test_cards4 = [[5, 5, 5], [4, 3, 5], [1, 1, 1], [9, 8, 3], [2, 8, 4], [5, 7, 4]]\n",
    "print(max_product(test_cards4))"
   ]
  }
 ],
 "metadata": {
  "kernelspec": {
   "display_name": "Python 3",
   "language": "python",
   "name": "python3"
  },
  "language_info": {
   "codemirror_mode": {
    "name": "ipython",
    "version": 3
   },
   "file_extension": ".py",
   "mimetype": "text/x-python",
   "name": "python",
   "nbconvert_exporter": "python",
   "pygments_lexer": "ipython3",
   "version": "3.7.3"
  }
 },
 "nbformat": 4,
 "nbformat_minor": 2
}
