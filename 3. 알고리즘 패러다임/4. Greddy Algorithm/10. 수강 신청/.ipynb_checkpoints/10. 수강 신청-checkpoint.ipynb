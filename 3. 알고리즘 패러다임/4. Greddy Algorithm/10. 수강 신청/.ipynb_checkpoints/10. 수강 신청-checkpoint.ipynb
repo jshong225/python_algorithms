{
 "cells": [
  {
   "cell_type": "code",
   "execution_count": 1,
   "metadata": {},
   "outputs": [
    {
     "name": "stdout",
     "output_type": "stream",
     "text": [
      "[(2, 3), (4, 5), (6, 8), (9, 10)]\n",
      "[(1, 2), (3, 4), (5, 7), (8, 9)]\n",
      "[(1, 3), (4, 7), (8, 10), (13, 16)]\n"
     ]
    }
   ],
   "source": [
    "## 10. 수강 신청\n",
    "\n",
    "\"\"\"\n",
    "이번 학기 코드잇 대학교의 수업 리스트가 나왔습니다.\n",
    "\n",
    "\n",
    "[(4, 7), (2, 5), (1, 3), (8, 10), (5, 9), (2, 6), (13, 16), (9, 11), (1, 8)]\n",
    "\n",
    "리스트에 담겨있는 튜플들은 각각 하나의 수업을 나타냅니다. 각 튜플의 0번째 항목은 해당 수업의 시작 교시, 그리고 1 번 항목은 해당 수업이 끝나는 교시입니다. 예를 들어서 0번 인덱스에 있는 튜플값은 (4, 7)이니까, 해당 수업은 4교시에 시작해서 7교시에 끝나는 거죠.\n",
    "\n",
    "\n",
    "(2, 5)를 듣는다고 가정합시다. (4, 7) 수업은 (2, 5)가 끝나기 전에 시작하기 때문에, 두 수업은 같이 들을 수 없습니다. 반면, 수업 (1, 3)과 (4, 7)은 시간이 겹치지 않기 때문에 동시에 들을 수 있습니다.\n",
    "\n",
    "\n",
    "(단, (2, 5), (5, 7)과 같이 5교시에 끝나는 수업과 5교시에 시작하는 수업은 서로 같이 듣지 못한다고 가정합니다)\n",
    "\n",
    "\n",
    "열정이 불타오르는 신입생 지웅이는 최대한 많은 수업을 들을 수 있는 수업 조합을 찾아주는 함수 course_selection 함수를 작성하려고 합니다.\n",
    "\n",
    "\n",
    "course_selection은 파라미터로 전체 수업 리스트를 받고 가능한 많은 수업을 담은 리스트를 리턴합니다.\n",
    "\n",
    "\"\"\"\n",
    "\n",
    "def course_selection(course_list):\n",
    "    # 수업을 끝나는 순서로 정렬한다\n",
    "    sorted_list = sorted(course_list, key=lambda x: x[1])\n",
    "\n",
    "    # 가장 먼저 끝나는 수업은 무조건 듣는다\n",
    "    my_selection = [sorted_list[0]]\n",
    "\n",
    "    # 이미 선택한 수업과 안 겹치는 수업 중 가장 빨리 끝나는 수업을 고른다\n",
    "    for course in sorted_list:\n",
    "        # 마지막 수업이 끝나기 전에 새 수업이 시작하면 겹친다\n",
    "        if course[0] > my_selection[-1][1]:\n",
    "            my_selection.append(course)\n",
    "\n",
    "    return my_selection\n",
    "\n",
    "\n",
    "# 테스트\n",
    "print(course_selection([(6, 10), (2, 3), (4, 5), (1, 7), (6, 8), (9, 10)]))\n",
    "print(course_selection([(1, 2), (3, 4), (0, 6), (5, 7), (8, 9), (5, 9)]))\n",
    "print(course_selection([(4, 7), (2, 5), (1, 3), (8, 10), (5, 9), (2, 5), (13, 16), (9, 11), (1, 8)]))"
   ]
  }
 ],
 "metadata": {
  "kernelspec": {
   "display_name": "Python 3",
   "language": "python",
   "name": "python3"
  },
  "language_info": {
   "codemirror_mode": {
    "name": "ipython",
    "version": 3
   },
   "file_extension": ".py",
   "mimetype": "text/x-python",
   "name": "python",
   "nbconvert_exporter": "python",
   "pygments_lexer": "ipython3",
   "version": "3.7.3"
  }
 },
 "nbformat": 4,
 "nbformat_minor": 2
}
