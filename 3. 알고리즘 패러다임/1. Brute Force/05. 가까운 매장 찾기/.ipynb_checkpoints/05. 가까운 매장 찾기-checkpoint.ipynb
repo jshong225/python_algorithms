{
 "cells": [
  {
   "cell_type": "code",
   "execution_count": 1,
   "metadata": {},
   "outputs": [
    {
     "name": "stdout",
     "output_type": "stream",
     "text": [
      "[(2, 3), (3, 4)]\n"
     ]
    }
   ],
   "source": [
    "# 스다벅스는 줄어든 매출 때문에 지점 하나를 닫아야 하는 위기에 처해 있습니다. \n",
    "# 어떤 지점을 닫는 게 회사에 타격이 적을지 고민이 되는데요.\n",
    "# 서로 가까이 붙어 있는 매장이 있으면, 그 중 하나는 없어져도 괜찮지 않을까 싶습니다.\n",
    "\n",
    "\n",
    "# 사장님은 비서 태호에게, 직선 거리가 가장 가까운 두 매장을 찾아서 보고하라는 임무를 주셨습니다.\n",
    "\n",
    "# 제곱근 사용을 위한 sqrt 함수 불러오기\n",
    "from math import sqrt\n",
    "\n",
    "# 두 매장의 직선 거리를 계산해 주는 함수\n",
    "def distance(store1, store2):\n",
    "    return sqrt((store1[0] - store2[0]) ** 2 + (store1[1] - store2[1]) ** 2)\n",
    "\n",
    "# 가장 가까운 두 매장을 찾아주는 함수\n",
    "def closest_pair(coordinates):\n",
    "    # 현재까지 본 가장 가까운 두 매장\n",
    "    pair = [coordinates[0], coordinates[1]]\n",
    "  \n",
    "    for i in range(len(coordinates) - 1):\n",
    "        for j in range(i + 1, len(coordinates)):\n",
    "            store1, store2 = coordinates[i], coordinates[j]\n",
    "\n",
    "            # 더 가까운 두 매장을 찾으면 pair 업데이트\n",
    "            if distance(pair[0], pair[1]) > distance(store1, store2):\n",
    "                pair = [store1, store2]\n",
    "\n",
    "    return pair\n",
    "\n",
    "# 테스트\n",
    "test_coordinates = [(2, 3), (12, 30), (40, 50), (5, 1), (12, 10), (3, 4)]\n",
    "print(closest_pair(test_coordinates))"
   ]
  }
 ],
 "metadata": {
  "kernelspec": {
   "display_name": "Python 3",
   "language": "python",
   "name": "python3"
  },
  "language_info": {
   "codemirror_mode": {
    "name": "ipython",
    "version": 3
   },
   "file_extension": ".py",
   "mimetype": "text/x-python",
   "name": "python",
   "nbconvert_exporter": "python",
   "pygments_lexer": "ipython3",
   "version": "3.7.3"
  }
 },
 "nbformat": 4,
 "nbformat_minor": 2
}
