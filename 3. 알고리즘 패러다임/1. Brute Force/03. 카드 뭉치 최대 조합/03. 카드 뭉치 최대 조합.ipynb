{
 "cells": [
  {
   "cell_type": "code",
   "execution_count": 1,
   "metadata": {},
   "outputs": [
    {
     "name": "stdout",
     "output_type": "stream",
     "text": [
      "24\n",
      "32\n",
      "28\n"
     ]
    }
   ],
   "source": [
    "# 카드 뭉치 최대 조합\n",
    "\n",
    "\n",
    "# 카드 두 뭉치가 있습니다.\n",
    "# 왼쪽 뭉치에서 카드를 하나 뽑고 오른쪽 뭉치에서 카드를 하나 뽑아서, 두 수의 곱이 가장 크게 만들고 싶은데요. 어떻게 하면 가장 큰 곱을 구할 수 있을까요?\n",
    "# 함수 max_product는 리스트 left_cards와 리스트 right_cards를 파라미터로 받습니다.\n",
    "# left_cards는 왼쪽 카드 뭉치의 숫자들, right_cards는 오른쪽 카드 뭉치 숫자들이 담겨 있고, max_product는 left_cards에서 카드 하나와 right_cards에서 카드 하나를 뽑아서 곱했을 때 그 값이 최대가 되는 값을 리턴합니다.\n",
    "\n",
    "def max_product(left_cards, right_cards):\n",
    "    # 현재까지 최댓값을 담기 위한 변수\n",
    "    # 처음에는 임시로 -1로 설정\n",
    "    max_product = -1\n",
    "    \n",
    "    # 가능한 모든 조합을 보기 위한 중첩 반복문\n",
    "    for left in left_cards:\n",
    "        for right in right_cards:\n",
    "            # 현재까지의 최댓값 값과 지금 보고 있는 곱을 비교해서 더 큰 값을 최댓값 변수에 담아준다\n",
    "            max_product = max(max_product, left * right)\n",
    "\n",
    "    # 찾은 최댓값을 리턴한다            \n",
    "    return max_product\n",
    "    \n",
    "print(max_product([1, 6, 5], [4, 2, 3]))\n",
    "print(max_product([1, -9, 3, 4], [2, 8, 3, 1]))\n",
    "print(max_product([-1, -7, 3], [-4, 3, 6]))"
   ]
  }
 ],
 "metadata": {
  "kernelspec": {
   "display_name": "Python 3",
   "language": "python",
   "name": "python3"
  },
  "language_info": {
   "codemirror_mode": {
    "name": "ipython",
    "version": 3
   },
   "file_extension": ".py",
   "mimetype": "text/x-python",
   "name": "python",
   "nbconvert_exporter": "python",
   "pygments_lexer": "ipython3",
   "version": "3.7.3"
  }
 },
 "nbformat": 4,
 "nbformat_minor": 2
}
