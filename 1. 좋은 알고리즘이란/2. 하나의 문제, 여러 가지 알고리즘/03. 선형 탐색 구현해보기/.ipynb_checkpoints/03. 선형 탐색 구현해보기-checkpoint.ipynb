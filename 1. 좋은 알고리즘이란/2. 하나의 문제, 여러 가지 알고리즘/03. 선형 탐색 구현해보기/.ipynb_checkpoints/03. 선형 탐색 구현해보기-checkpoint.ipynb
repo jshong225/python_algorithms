{
 "cells": [
  {
   "cell_type": "code",
   "execution_count": 1,
   "metadata": {},
   "outputs": [
    {
     "name": "stdout",
     "output_type": "stream",
     "text": [
      "0\n",
      "None\n",
      "2\n",
      "1\n",
      "4\n"
     ]
    }
   ],
   "source": [
    "## 파라미터로 탐색할 값 element와 리스트 some_list를 받는 함수 linear_search를 작성하세요.\n",
    "## 0번 인덱스부터 순서대로 하나씩 확인해서 만약 element를 some_list에서 발견할 시 그 위치(인덱스)를 리턴해 주면 됩니다.\n",
    "\n",
    "## element가 some_list에 존재하지 않는 값이면 None을 리턴해주세요.\n",
    "\n",
    "\n",
    "def linear_search(element, some_list):\n",
    "    for i in range(len(some_list)):\n",
    "        if some_list[i] == element:\n",
    "            return i\n",
    "    return None\n",
    "\n",
    "# 테스트\n",
    "print(linear_search(2, [2, 3, 5, 7, 11]))\n",
    "print(linear_search(0, [2, 3, 5, 7, 11]))\n",
    "print(linear_search(5, [2, 3, 5, 7, 11]))\n",
    "print(linear_search(3, [2, 3, 5, 7, 11]))\n",
    "print(linear_search(11, [2, 3, 5, 7, 11]))"
   ]
  },
  {
   "cell_type": "code",
   "execution_count": null,
   "metadata": {},
   "outputs": [],
   "source": []
  }
 ],
 "metadata": {
  "kernelspec": {
   "display_name": "Python 3",
   "language": "python",
   "name": "python3"
  },
  "language_info": {
   "codemirror_mode": {
    "name": "ipython",
    "version": 3
   },
   "file_extension": ".py",
   "mimetype": "text/x-python",
   "name": "python",
   "nbconvert_exporter": "python",
   "pygments_lexer": "ipython3",
   "version": "3.7.3"
  }
 },
 "nbformat": 4,
 "nbformat_minor": 2
}
