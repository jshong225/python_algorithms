{
 "cells": [
  {
   "cell_type": "code",
   "execution_count": 2,
   "metadata": {},
   "outputs": [
    {
     "name": "stdout",
     "output_type": "stream",
     "text": [
      "0\n",
      "None\n",
      "2\n",
      "1\n",
      "4\n"
     ]
    }
   ],
   "source": [
    "def binary_search(element, some_list):\n",
    "    start_index = 0\n",
    "    end_index = len(some_list) - 1\n",
    "    \n",
    "    while start_index <= end_index:\n",
    "        midpoint = (start_index + end_index) // 2\n",
    "        if some_list[midpoint] == element:\n",
    "            return midpoint\n",
    "        elif some_list[midpoint] > element:\n",
    "            end_index = midpoint - 1\n",
    "        else:\n",
    "            start_index = midpoint + 1\n",
    "    return None\n",
    "\n",
    "print(binary_search(2, [2, 3, 5, 7, 11]))\n",
    "print(binary_search(0, [2, 3, 5, 7, 11]))\n",
    "print(binary_search(5, [2, 3, 5, 7, 11]))\n",
    "print(binary_search(3, [2, 3, 5, 7, 11]))\n",
    "print(binary_search(11, [2, 3, 5, 7, 11]))"
   ]
  }
 ],
 "metadata": {
  "kernelspec": {
   "display_name": "Python 3",
   "language": "python",
   "name": "python3"
  },
  "language_info": {
   "codemirror_mode": {
    "name": "ipython",
    "version": 3
   },
   "file_extension": ".py",
   "mimetype": "text/x-python",
   "name": "python",
   "nbconvert_exporter": "python",
   "pygments_lexer": "ipython3",
   "version": "3.7.3"
  }
 },
 "nbformat": 4,
 "nbformat_minor": 2
}
