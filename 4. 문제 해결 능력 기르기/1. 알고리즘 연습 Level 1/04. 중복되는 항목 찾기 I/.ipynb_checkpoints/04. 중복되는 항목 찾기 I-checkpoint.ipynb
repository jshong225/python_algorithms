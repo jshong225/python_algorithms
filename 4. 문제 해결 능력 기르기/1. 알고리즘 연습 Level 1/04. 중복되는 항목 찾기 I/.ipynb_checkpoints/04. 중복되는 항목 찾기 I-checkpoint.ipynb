{
 "cells": [
  {
   "cell_type": "code",
   "execution_count": 1,
   "metadata": {},
   "outputs": [
    {
     "name": "stdout",
     "output_type": "stream",
     "text": [
      "3\n",
      "5\n",
      "3\n"
     ]
    }
   ],
   "source": [
    "## 04. 중복되는 항목 찾기 I\n",
    "\n",
    "\"\"\"\n",
    "(N + 1)의 크기인 리스트에, 1부터 N까지의 임의의 자연수가 요소로 할당되어 있습니다. 그렇다면 어떤 수는 꼭 한 번은 반복되겠지요.\n",
    "\n",
    "\n",
    "예를 들어 [1, 3, 4, 2, 5, 4]와 같은 리스트 있을 수도 있고, [1, 1, 1, 6, 2, 2, 3]과 같은 리스트가 있을 수도 있습니다. (몇 개의 수가 여러 번 중복되어 있을 수도 있습니다.)\n",
    "\n",
    "\n",
    "이런 리스트에서 반복되는 요소를 찾아내려고 합니다.\n",
    "\n",
    "\n",
    "중복되는 어떠한 수 ‘하나’만 찾아내도 됩니다. 즉 [1, 1, 1, 6, 2, 2, 3] 예시에서 1, 2를 모두 리턴하지 않고, 1 또는 2 하나만 리턴하게 하면 됩니다.\n",
    "\n",
    "\n",
    "중복되는 수를 찾는 시간 효율적인 함수를 설계해보세요.\n",
    "\"\"\"\n",
    "\n",
    "\n",
    "def find_same_number(some_list):\n",
    "    # 이미 나온 요소를 저장시켜줄 사전\n",
    "    elements_seen_so_far = {}\n",
    "\n",
    "    for element in some_list:\n",
    "        # 이미 나온 요소인지 확인하고 맞으면 요소를 리턴한다\n",
    "        if element in elements_seen_so_far:\n",
    "            return element\n",
    "\n",
    "        # 해당 요소를 사전에 저장시킨다\n",
    "        elements_seen_so_far[element] = True\n",
    "\n",
    "print(find_same_number([1, 4, 3, 5, 3, 2]))\n",
    "print(find_same_number([4, 1, 5, 2, 3, 5]))\n",
    "print(find_same_number([5, 2, 3, 4, 1, 6, 7, 8, 9, 3]))"
   ]
  }
 ],
 "metadata": {
  "kernelspec": {
   "display_name": "Python 3",
   "language": "python",
   "name": "python3"
  },
  "language_info": {
   "codemirror_mode": {
    "name": "ipython",
    "version": 3
   },
   "file_extension": ".py",
   "mimetype": "text/x-python",
   "name": "python",
   "nbconvert_exporter": "python",
   "pygments_lexer": "ipython3",
   "version": "3.7.3"
  }
 },
 "nbformat": 4,
 "nbformat_minor": 2
}
