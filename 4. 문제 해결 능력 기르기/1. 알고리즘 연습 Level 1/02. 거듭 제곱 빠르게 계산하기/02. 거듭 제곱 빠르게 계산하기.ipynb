{
 "cells": [
  {
   "cell_type": "code",
   "execution_count": 1,
   "metadata": {},
   "outputs": [
    {
     "name": "stdout",
     "output_type": "stream",
     "text": [
      "243\n",
      "15625\n",
      "40353607\n"
     ]
    }
   ],
   "source": [
    "## 02. 거듭 제곱 빠르게 계산하기\n",
    "\n",
    "def power(x, y):\n",
    "    if y == 0:\n",
    "        return 1\n",
    "\n",
    "    # 계산을 한 번만 하기 위해서 변수에 저장\n",
    "    subresult = power(x, y // 2)\n",
    "    \n",
    "    # 문제를 최대한 똑같은 크기의 문제 두 개로 나눠준다 (짝수, 홀수 경우 따로)\n",
    "    if y % 2 == 0:\n",
    "        return subresult * subresult\n",
    "    else:\n",
    "        return x * subresult * subresult\n",
    "\n",
    "\n",
    "# 테스트\n",
    "print(power(3, 5))\n",
    "print(power(5, 6))\n",
    "print(power(7, 9))"
   ]
  }
 ],
 "metadata": {
  "kernelspec": {
   "display_name": "Python 3",
   "language": "python",
   "name": "python3"
  },
  "language_info": {
   "codemirror_mode": {
    "name": "ipython",
    "version": 3
   },
   "file_extension": ".py",
   "mimetype": "text/x-python",
   "name": "python",
   "nbconvert_exporter": "python",
   "pygments_lexer": "ipython3",
   "version": "3.7.3"
  }
 },
 "nbformat": 4,
 "nbformat_minor": 2
}
