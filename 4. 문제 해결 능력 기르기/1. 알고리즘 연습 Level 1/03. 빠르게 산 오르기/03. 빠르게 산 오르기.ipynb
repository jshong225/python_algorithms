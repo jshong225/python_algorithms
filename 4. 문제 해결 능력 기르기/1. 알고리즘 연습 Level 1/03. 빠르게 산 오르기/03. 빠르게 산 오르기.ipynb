{
 "cells": [
  {
   "cell_type": "code",
   "execution_count": 1,
   "metadata": {},
   "outputs": [
    {
     "name": "stdout",
     "output_type": "stream",
     "text": [
      "[4, 7, 11, 13, 16, 20, 24, 26]\n",
      "[5, 8, 12, 17, 23, 28, 32, 38, 44, 47]\n"
     ]
    }
   ],
   "source": [
    "## 03. 빠르게 산 오르기\n",
    "\n",
    "\"\"\"\n",
    "신입 사원 장그래는 마부장님을 따라 등산을 가게 되었습니다.\n",
    "\n",
    "\n",
    "탈수를 방지하기 위해서 1km당 1L의 물을 반드시 마셔야 하는데요. 다행히 등산길 곳곳에는 물통을 채울 수 있는 약수터가 마련되어 있습니다. 다만 매번 줄서 기다려야 한다는 번거로움이 있기 때문에, 시간을 아끼기 위해서는 최대한 적은 약수터를 들르고 싶습니다.\n",
    "\n",
    "\n",
    "함수 select_stops는 파라미터로 약수터 위치 리스트 water_stops와 물통 용량 capacity를 받고, 장그래가 들를 약수터 위치 리스트를 리턴합니다. 앞서 설명한 대로 약수터는 최대한 적게 들러야겠죠.\n",
    "\n",
    "\n",
    "참고로 모든 위치는 km 단위이고 용량은 L 단위입니다. 그리고 등산하기 전에는 이미 물통이 가득 채워져 있으며, 약수터에 들르면 늘 물통을 가득 채운다고 가정합시다.\n",
    "\n",
    "\n",
    "예시를 하나 볼게요.\n",
    "\n",
    "\n",
    "# 약수터 위치: [1km, 4km, 5km, 7km, 11km, 12km, 13km, 16km, 18km, 20km, 22km, 24km, 26km]\n",
    "# 물통 용량: 4L\n",
    "select_stops([1, 4, 5, 7, 11, 12, 13, 16, 18, 20, 22, 24, 26], 4)\n",
    "\n",
    "처음에 4L의 물통이 채워져 있기 때문에, 장그래는 약수터에 들르지 않고 최대 4km 지점까지 올라갈 수 있습니다. 탈수 없이 계속 올라가기 위해서는 1km 지점이나 4km 지점에서 물통을 채워야겠죠?\n",
    "\n",
    "\n",
    "최대한 적은 약수터를 들르면서 올라가야 하고, 마지막에 산 정상인 26km 지점의 약수터를 들르면 성공적인 등산입니다.\n",
    "\"\"\"\n",
    "\n",
    "def select_stops(water_stops, capacity):\n",
    "    # 약수터 위치 리스트\n",
    "    stop_list = []\n",
    "\n",
    "    # 마지막 들른 약수터 위치\n",
    "    prev_stop = 0\n",
    "\n",
    "    for i in range(len(water_stops)):\n",
    "        # i 지점까지 갈 수 없으면, i - 1 지점 약수터를 들른다\n",
    "        if water_stops[i] - prev_stop > capacity:\n",
    "            stop_list.append(water_stops[i - 1])\n",
    "            prev_stop = water_stops[i - 1]\n",
    "\n",
    "    # 마지막 약수터는 무조건 간다\n",
    "    stop_list.append(water_stops[-1])\n",
    "\n",
    "    return stop_list\n",
    "\n",
    "\n",
    "# 테스트\n",
    "list1 = [1, 4, 5, 7, 11, 12, 13, 16, 18, 20, 22, 24, 26]\n",
    "print(select_stops(list1, 4))\n",
    "\n",
    "list2 = [5, 8, 12, 17, 20, 22, 23, 24, 28, 32, 38, 42, 44, 47]\n",
    "print(select_stops(list2, 6))"
   ]
  }
 ],
 "metadata": {
  "kernelspec": {
   "display_name": "Python 3",
   "language": "python",
   "name": "python3"
  },
  "language_info": {
   "codemirror_mode": {
    "name": "ipython",
    "version": 3
   },
   "file_extension": ".py",
   "mimetype": "text/x-python",
   "name": "python",
   "nbconvert_exporter": "python",
   "pygments_lexer": "ipython3",
   "version": "3.7.3"
  }
 },
 "nbformat": 4,
 "nbformat_minor": 2
}
