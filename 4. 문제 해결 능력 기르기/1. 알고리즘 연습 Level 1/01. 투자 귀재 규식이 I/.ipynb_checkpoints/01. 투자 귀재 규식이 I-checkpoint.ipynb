{
 "cells": [
  {
   "cell_type": "code",
   "execution_count": 2,
   "metadata": {},
   "outputs": [
    {
     "name": "stdout",
     "output_type": "stream",
     "text": [
      "15\n",
      "8\n",
      "27\n"
     ]
    }
   ],
   "source": [
    "## 01. 투자 귀재 규식이 I\n",
    "\n",
    "\"\"\"\n",
    "규식이는 친구들 사이에서 투자의 귀재로 알려져 있습니다. 페이수북과 인수타그램에 자신의 성과를 과시하기 때문인데요. 사실 규식이가 그 정도의 실력자는 아닙니다. 성과가 좋을 때에만 SNS에 공유해서 그렇게 비춰질 뿐이죠.\n",
    "\n",
    "\n",
    "계속해서 멋진 모습을 보여주기 위해, 특정 기간 중 수익이 가장 큰 구간을 찾아내는 함수 sublist_max를 작성해 보려고 합니다.\n",
    "\n",
    "\n",
    "Brute Force 방법을 이용해서 이 문제를 한 번 풀어봅시다!\n",
    "\"\"\"\n",
    "\n",
    "\n",
    "def sublist_max(profits):\n",
    "    max_profit = profits[0] # 최대 수익\n",
    "    \n",
    "    for i in range(len(profits)):\n",
    "        # 인덱스 i부터 j까지 수익의 합을 보관하는 변수\n",
    "        total = 0\n",
    "        \n",
    "        for j in range(i, len(profits)):\n",
    "            # i부터 j까지 수익의 합을 계산\n",
    "            total += profits[j]\n",
    "            \n",
    "            # i부터 j까지 수익의 합이 최대 수익이라면, max_profit 업데이트\n",
    "            max_profit = max(max_profit, total)\n",
    "\n",
    "    return max_profit\n",
    "\n",
    "\n",
    "# 테스트\n",
    "print(sublist_max([4, 3, 8, -2, -5, -3, -5, -3]))\n",
    "print(sublist_max([2, 3, 1, -1, -2, 5, -1, -1]))\n",
    "print(sublist_max([7, -3, 14, -8, -5, 6, 8, -5, -4, 10, -1, 8]))"
   ]
  }
 ],
 "metadata": {
  "kernelspec": {
   "display_name": "Python 3",
   "language": "python",
   "name": "python3"
  },
  "language_info": {
   "codemirror_mode": {
    "name": "ipython",
    "version": 3
   },
   "file_extension": ".py",
   "mimetype": "text/x-python",
   "name": "python",
   "nbconvert_exporter": "python",
   "pygments_lexer": "ipython3",
   "version": "3.7.3"
  }
 },
 "nbformat": 4,
 "nbformat_minor": 2
}
