{
 "cells": [
  {
   "cell_type": "code",
   "execution_count": 1,
   "metadata": {},
   "outputs": [
    {
     "name": "stdout",
     "output_type": "stream",
     "text": [
      "14\n",
      "15\n",
      "16\n",
      "11\n",
      "20\n"
     ]
    }
   ],
   "source": [
    "# 파라미터로 정수값 n을 받고 n의 각 자릿수의 합을 리턴해주는 재귀함수 sum_digits를 쓰세요.\n",
    "# 반복문을 쓰지 말고, 재귀(recursion)의 개념을 활용해주세요!\n",
    "\n",
    "def sum_digits(n):\n",
    "    # base case\n",
    "    if n < 10:\n",
    "        return n\n",
    "\n",
    "    # recursive case\n",
    "    return n % 10 + sum_digits(n // 10)\n",
    "\n",
    "print(sum_digits(22541))\n",
    "print(sum_digits(92130))\n",
    "print(sum_digits(12634))\n",
    "print(sum_digits(704))\n",
    "print(sum_digits(3755))"
   ]
  }
 ],
 "metadata": {
  "kernelspec": {
   "display_name": "Python 3",
   "language": "python",
   "name": "python3"
  },
  "language_info": {
   "codemirror_mode": {
    "name": "ipython",
    "version": 3
   },
   "file_extension": ".py",
   "mimetype": "text/x-python",
   "name": "python",
   "nbconvert_exporter": "python",
   "pygments_lexer": "ipython3",
   "version": "3.7.3"
  }
 },
 "nbformat": 4,
 "nbformat_minor": 2
}
