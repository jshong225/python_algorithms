{
 "cells": [
  {
   "cell_type": "code",
   "execution_count": 1,
   "metadata": {},
   "outputs": [
    {
     "name": "stdout",
     "output_type": "stream",
     "text": [
      "1번 원판을 1번 기둥에서 3번 기둥으로 이동\n",
      "2번 원판을 1번 기둥에서 2번 기둥으로 이동\n",
      "1번 원판을 3번 기둥에서 2번 기둥으로 이동\n",
      "3번 원판을 1번 기둥에서 3번 기둥으로 이동\n",
      "1번 원판을 2번 기둥에서 1번 기둥으로 이동\n",
      "2번 원판을 2번 기둥에서 3번 기둥으로 이동\n",
      "1번 원판을 1번 기둥에서 3번 기둥으로 이동\n"
     ]
    }
   ],
   "source": [
    "# 하노이의 탑 게임의 해답을 출력해주는 함수 hanoi를 쓰세요.\n",
    "# hanoi는 파라미터로 원판 수 num_disks,\n",
    "# 게임을 시작하는 기둥 번호 start_peg,\n",
    "# 그리고 목표로 하는 기둥 번호 end_peg를 받고,\n",
    "# 재귀적으로 문제를 풀어 원판을 옮기는 순서를 모두 출력합니다.\n",
    "\n",
    "def move_disk(disk_num, start_peg, end_peg):\n",
    "    print(\"%d번 원판을 %d번 기둥에서 %d번 기둥으로 이동\" % (disk_num, start_peg, end_peg))\n",
    "\n",
    "def hanoi(num_disks, start_peg, end_peg):\n",
    "    # base case: 옮길 원판이 없으면 부분 문제를 나누지 않고 함수를 끝낸다\n",
    "    if num_disks == 0:\n",
    "        return\n",
    "    else:\n",
    "        other_peg = 6 - start_peg - end_peg\n",
    "        \n",
    "        # 1. 가장 큰 원판을 제외하고 나머지 원판들을 start_peg에서 other_peg로 이동\n",
    "        hanoi(num_disks - 1, start_peg, other_peg)\n",
    "        \n",
    "        # 2. 가장 큰 원판을 start_peg에서 end_peg로 이동\n",
    "        move_disk(num_disks, start_peg, end_peg)\n",
    "        \n",
    "        # 3. 나머지 원판들을 other_peg에서 end_peg로 이동\n",
    "        hanoi(num_disks - 1, other_peg, end_peg)\n",
    "\n",
    "# 테스트\n",
    "hanoi(3, 1, 3)"
   ]
  }
 ],
 "metadata": {
  "kernelspec": {
   "display_name": "Python 3",
   "language": "python",
   "name": "python3"
  },
  "language_info": {
   "codemirror_mode": {
    "name": "ipython",
    "version": 3
   },
   "file_extension": ".py",
   "mimetype": "text/x-python",
   "name": "python",
   "nbconvert_exporter": "python",
   "pygments_lexer": "ipython3",
   "version": "3.7.3"
  }
 },
 "nbformat": 4,
 "nbformat_minor": 2
}
