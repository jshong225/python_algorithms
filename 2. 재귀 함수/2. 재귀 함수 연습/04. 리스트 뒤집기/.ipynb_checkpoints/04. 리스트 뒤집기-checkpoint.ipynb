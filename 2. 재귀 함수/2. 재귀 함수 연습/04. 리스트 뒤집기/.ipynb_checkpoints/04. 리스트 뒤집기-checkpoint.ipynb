{
 "cells": [
  {
   "cell_type": "code",
   "execution_count": null,
   "metadata": {},
   "outputs": [],
   "source": [
    "# 파라미터로 리스트 some_list를 받고, 뒤집힌 리스트를 리턴해 주는 재귀 함수 flip을 쓰세요.\n",
    "\n",
    "\n",
    "# 반복문은 쓰면 안됩니다!\n",
    "\n",
    "\n",
    "# 파라미터 some_list를 거꾸로 뒤집는 함수\n",
    "def flip(some_list):\n",
    "    # base case\n",
    "    if len(some_list) == 0 or len(some_list) == 1:\n",
    "        return some_list\n",
    "\n",
    "    # recursive case\n",
    "    return some_list[-1:] + flip(some_list[:-1])\n",
    "\n",
    "# 테스트\n",
    "some_list = [1, 2, 3, 4, 5, 6, 7, 8, 9]\n",
    "some_list = flip(some_list)\n",
    "print(some_list)"
   ]
  }
 ],
 "metadata": {
  "kernelspec": {
   "display_name": "Python 3",
   "language": "python",
   "name": "python3"
  },
  "language_info": {
   "codemirror_mode": {
    "name": "ipython",
    "version": 3
   },
   "file_extension": ".py",
   "mimetype": "text/x-python",
   "name": "python",
   "nbconvert_exporter": "python",
   "pygments_lexer": "ipython3",
   "version": "3.7.3"
  }
 },
 "nbformat": 4,
 "nbformat_minor": 2
}
