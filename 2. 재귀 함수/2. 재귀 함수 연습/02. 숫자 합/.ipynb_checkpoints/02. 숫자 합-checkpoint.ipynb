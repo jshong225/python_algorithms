{
 "cells": [
  {
   "cell_type": "code",
   "execution_count": 1,
   "metadata": {},
   "outputs": [
    {
     "name": "stdout",
     "output_type": "stream",
     "text": [
      "1\n",
      "3\n",
      "6\n",
      "10\n",
      "15\n",
      "21\n",
      "28\n",
      "36\n",
      "45\n",
      "55\n"
     ]
    }
   ],
   "source": [
    "#\n",
    "# n번째 삼각수(triangle number)는 자연수 11부터 nn까지의 합입니다. 파라미터로 정수값 n을 받고 nn번째 삼각수를 리턴해주는 재귀 함수 triangle_number를 쓰세요. nn은 11 이상의 자연수라고 가정합시다.\n",
    "\n",
    "\n",
    "# 함수 안에 반복문은 쓰면 안됩니다!\n",
    "\n",
    "\n",
    "def triangle_number(n):\n",
    "    # base case\n",
    "    if n == 1:\n",
    "        return 1\n",
    "\n",
    "    # recursive case\n",
    "    return n + triangle_number(n - 1)\n",
    "\n",
    "for i in range(1, 11):\n",
    "    print(triangle_number(i))\n"
   ]
  }
 ],
 "metadata": {
  "kernelspec": {
   "display_name": "Python 3",
   "language": "python",
   "name": "python3"
  },
  "language_info": {
   "codemirror_mode": {
    "name": "ipython",
    "version": 3
   },
   "file_extension": ".py",
   "mimetype": "text/x-python",
   "name": "python",
   "nbconvert_exporter": "python",
   "pygments_lexer": "ipython3",
   "version": "3.7.3"
  }
 },
 "nbformat": 4,
 "nbformat_minor": 2
}
